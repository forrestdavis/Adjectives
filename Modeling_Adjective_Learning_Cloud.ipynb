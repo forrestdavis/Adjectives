{
 "cells": [
  {
   "cell_type": "markdown",
   "metadata": {
    "id": "Im8QmbyWncKH"
   },
   "source": [
    "# BabyBERTa, RoBERTa, and Adjectives\n",
    "\n",
    "\n",
    "The following are some initial experiments with BabyBERTa ([paper](https://aclanthology.org/2021.conll-1.49/))."
   ]
  },
  {
   "cell_type": "markdown",
   "metadata": {
    "id": "0upNKJ-KYPk2",
    "tags": []
   },
   "source": [
    "# Setting up\n",
    "\n",
    "1. import libraries\n",
    "2. Download data\n",
    "3. Download code for models\n",
    "4. Load BabyBERTa"
   ]
  },
  {
   "cell_type": "code",
   "execution_count": null,
   "metadata": {
    "colab": {
     "base_uri": "https://localhost:8080/"
    },
    "id": "iSvOs7xcZ8bf",
    "outputId": "0f690622-a766-4f0f-9a57-b33f72b15b3f"
   },
   "outputs": [],
   "source": [
    "!pip install openai\n",
    "!pip install tiktoken\n",
    "!pip install transformers\n",
    "import pandas as pd"
   ]
  },
  {
   "cell_type": "code",
   "execution_count": null,
   "metadata": {
    "colab": {
     "base_uri": "https://localhost:8080/"
    },
    "id": "k0EqCcwpY7Qk",
    "outputId": "3d552611-253f-4bfa-a350-ac777ab19622"
   },
   "outputs": [],
   "source": [
    "# Clone code\n",
    "!git clone https://github.com/forrestdavis/PublicModelsAPI.git"
   ]
  },
  {
   "cell_type": "code",
   "execution_count": null,
   "metadata": {
    "colab": {
     "base_uri": "https://localhost:8080/"
    },
    "id": "nQAVuv-DZFfY",
    "outputId": "9920fe15-376a-4979-e1a2-686b14e7f699"
   },
   "outputs": [],
   "source": [
    "# Load BabyBERTa\n",
    "modelType = 'roberta'\n",
    "modelName = 'phueb/BabyBERTa-1'\n",
    "\n",
    "import sys\n",
    "sys.path.append(\"/home/ubuntu/PublicModelsAPI/\")\n",
    "from src.models import models\n",
    "\n",
    "run_config = {'models': {modelType: [modelName]}}\n",
    "BabyBERTa = models.load_models(run_config)[0]\n"
   ]
  },
  {
   "cell_type": "code",
   "execution_count": null,
   "metadata": {
    "colab": {
     "base_uri": "https://localhost:8080/"
    },
    "id": "OymgtqcKYO1f",
    "outputId": "f11b807d-5966-4fe8-ceed-aa828d35551a"
   },
   "outputs": [],
   "source": [
    "# Retrieve data\n",
    "!wget -O frames.xlsx https://www.dropbox.com/s/w06gbjq28ug7zg0/PythonAnnotatedAdjectivesWithFrames.xlsx?dl=0\n",
    "!wget -O replacements.xlsx https://www.dropbox.com/s/23o4gqracovwcv1/replacements.xlsx?dl=0"
   ]
  },
  {
   "cell_type": "code",
   "execution_count": null,
   "metadata": {
    "id": "p4-VIbhKa3Vq"
   },
   "outputs": [],
   "source": [
    "# Load frames\n",
    "import pandas as pd\n",
    "frames = pd.read_excel(\"frames.xlsx\")\n",
    "frames = frames.fillna('')"
   ]
  },
  {
   "cell_type": "code",
   "execution_count": null,
   "metadata": {
    "id": "KdbC7vtdKgbR"
   },
   "outputs": [],
   "source": [
    "# Adjectives, class, etc.\n",
    "adjectives = frames['adjective'].unique().tolist()\n",
    "\n",
    "adj2class = {}\n",
    "class2adj = {}\n",
    "for adj in adjectives:\n",
    "    if adj == '':\n",
    "        continue\n",
    "    c = frames[frames['adjective'] == adj]\n",
    "    c = c['adjective_class'].tolist()[0]\n",
    "    adj2class[adj] = c\n",
    "    if c not in class2adj:\n",
    "        class2adj[c] = []\n",
    "    class2adj[c].append(adj)"
   ]
  },
  {
   "cell_type": "code",
   "execution_count": null,
   "metadata": {
    "colab": {
     "base_uri": "https://localhost:8080/"
    },
    "id": "8RQM4vGI6_Lu",
    "outputId": "c03fa266-c797-4d61-e7d4-967335e3833f"
   },
   "outputs": [],
   "source": [
    "frames.columns"
   ]
  },
  {
   "cell_type": "code",
   "execution_count": null,
   "metadata": {
    "colab": {
     "base_uri": "https://localhost:8080/",
     "height": 614
    },
    "id": "i6phdh6k3SfY",
    "outputId": "d3056122-c288-45d4-9c91-4e7c915b0966"
   },
   "outputs": [],
   "source": [
    "frames[frames['right'] == 'gerund'][['gloss', 'stem', 'part_of_speech']]"
   ]
  },
  {
   "cell_type": "code",
   "execution_count": null,
   "metadata": {
    "id": "olkv-h3iWOfy"
   },
   "outputs": [],
   "source": [
    "# Gather those pesky lines\n",
    "\n",
    "replace = pd.read_excel('replacements.xlsx')\n",
    "og = replace['og'].tolist()\n",
    "masked = replace['masked'].tolist()\n",
    "REPLACEMENTS = dict(zip(og, masked))"
   ]
  },
  {
   "cell_type": "code",
   "execution_count": null,
   "metadata": {
    "id": "HepZz8EOPBuc"
   },
   "outputs": [],
   "source": [
    "# Get the relevant rows of data\n",
    "inf = frames[(frames['self'] == 'adj') & (frames['right'] == 'infin')]\n",
    "NPinf = frames[(frames['right'] == 'NP') & (frames['+2'] == 'inf')]\n",
    "gerund = frames[(frames['right'] == 'gerund')]\n",
    "forXP = frames[(frames['right'] == 'for XP')]\n",
    "toXP = frames[(frames['right'] == 'to XP')]\n",
    "withXP = frames[(frames['right'] == 'with XP')]\n",
    "ofXP = frames[(frames['right'] == 'of XP')]\n",
    "\n",
    "subset = pd.concat([inf, NPinf, gerund, forXP, toXP, withXP, ofXP])\n",
    "\n",
    "# Get sentences to check\n",
    "masked = []\n",
    "gloss = subset['gloss'].tolist()\n",
    "adjectives = subset['adjective'].tolist()\n",
    "types = subset['right'].tolist()\n",
    "for x, t in enumerate(types):\n",
    "    if t == 'NP':\n",
    "        types[x] = 'NPinf'\n",
    "\n",
    "count = 0\n",
    "for g, a, t in zip(gloss, adjectives, types):\n",
    "    if a not in g:\n",
    "        masked.append('NA')\n",
    "    elif g.count(a) != 1:\n",
    "        masked.append(REPLACEMENTS[g])\n",
    "    else:\n",
    "        masked.append(g.replace(a, 'MASKTOKEN'))\n",
    "\n",
    "subset['masked'] = masked\n",
    "subset = subset[subset['masked'] != 'NA']\n",
    "subset = subset[list(filter(lambda x: 'Unnamed' not in x, subset.columns))]"
   ]
  },
  {
   "cell_type": "code",
   "execution_count": null,
   "metadata": {
    "id": "_V1Fd4ae-Si8"
   },
   "outputs": [],
   "source": [
    "subset.to_csv('AnnotatedSubsetForModels.tsv', sep='\\t', index=False)"
   ]
  },
  {
   "cell_type": "code",
   "execution_count": null,
   "metadata": {
    "colab": {
     "base_uri": "https://localhost:8080/"
    },
    "id": "8C_6nHOjc9hY",
    "outputId": "e3f6840a-1af5-4210-fd25-473d8305998d"
   },
   "outputs": [],
   "source": [
    "# Get the average ppl of each adjective class in each frame (BabyBERTa)\n",
    "results = {}\n",
    "for sent, og_adjective in zip(subset['masked'].tolist(), subset['adjective'].tolist()):\n",
    "    for adjClass in class2adj:\n",
    "        if adjClass not in results:\n",
    "            results[adjClass] = []\n",
    "        batch = []\n",
    "        for target in class2adj[adjClass]:\n",
    "            if target == og_adjective:\n",
    "                continue\n",
    "            assert 'MASKTOKEN' in sent, sent\n",
    "            filled = sent.replace('MASKTOKEN', target)\n",
    "            batch.append(filled)\n",
    "        out = BabyBERTa.get_by_sentence_perplexity(batch)\n",
    "        sum = 0\n",
    "        for o in out:\n",
    "            sum += o[1]\n",
    "        results[adjClass].append(sum/len(out))"
   ]
  },
  {
   "cell_type": "markdown",
   "metadata": {
    "id": "DWRAX-Fa-27v"
   },
   "source": [
    "# Get adjective probability"
   ]
  },
  {
   "cell_type": "code",
   "execution_count": null,
   "metadata": {
    "colab": {
     "base_uri": "https://localhost:8080/"
    },
    "id": "t2k5hTWp-1_r",
    "outputId": "85deb518-4bcb-49b6-db47-d8d230413c19"
   },
   "outputs": [],
   "source": [
    "data = pd.read_csv('AnnotatedSubsetForModels.tsv', sep='\\t')\n",
    "class2adj = pd.read_csv('Class2Adj.tsv', sep='\\t')\n",
    "adj2class = {}\n",
    "temp = {}\n",
    "for adjClass in class2adj.columns:\n",
    "    adjs = class2adj[adjClass].tolist()\n",
    "    temp[adjClass] = adjs\n",
    "    for adj in adjs:\n",
    "        adj2class[adj] = adjClass\n",
    "class2adj = temp"
   ]
  },
  {
   "cell_type": "code",
   "execution_count": null,
   "metadata": {
    "id": "rHuWBsE2AqkK"
   },
   "outputs": [],
   "source": [
    "SentData = {}\n",
    "for sent in data['masked'].tolist():\n",
    "    # Find MASKTOKEN word position\n",
    "    maskIDX = 0\n",
    "    for idx, word in enumerate(sent.split(' ')):\n",
    "        if word == 'MASKTOKEN':\n",
    "            maskIDX = idx\n",
    "            break\n",
    "    for adj in adj2class:\n",
    "        if adj not in SentData:\n",
    "            SentData[adj] = []\n",
    "        filled = sent.replace('MASKTOKEN', adj)\n",
    "        assert adj == filled.split(' ')[maskIDX], f\"{filled.split(' ')} {adj}\"\n",
    "        SentData[adj].append((idx, adj, filled))"
   ]
  },
  {
   "cell_type": "code",
   "execution_count": null,
   "metadata": {
    "colab": {
     "base_uri": "https://localhost:8080/",
     "height": 402
    },
    "id": "380HQTZfCGv5",
    "outputId": "10ef20dc-e7bb-40aa-88cc-b9f44e365fc0"
   },
   "outputs": [],
   "source": [
    "# Get Results\n",
    "ResultData = {}\n",
    "batchSize = 400\n",
    "for adj in SentData:\n",
    "    ResultData[adj] = []\n",
    "    pairs = SentData[adj]\n",
    "    for idx in range(0, len(pairs), batchSize):\n",
    "        batch = pairs[idx:idx+batchSize]\n",
    "        positions = []\n",
    "        sents = []\n",
    "        targets = []\n",
    "        for pair in batch:\n",
    "            positions.append(pair[0])\n",
    "            targets.append(pair[1])\n",
    "            sents.append(pair[2])\n",
    "        probabilities = BabyBERTa.get_aligned_words_probabilities(sents)\n",
    "        assert len(positions) == len(probabilities)\n",
    "        for j, (position, probability) in enumerate(zip(positions, probabilities)):\n",
    "            assert probability[position].word == targets[j], f\"{probability[position].word} - {targets[j]}\"\n",
    "            ResultData[adj].append(probability[position].prob)"
   ]
  },
  {
   "cell_type": "code",
   "execution_count": null,
   "metadata": {
    "colab": {
     "base_uri": "https://localhost:8080/",
     "height": 1000
    },
    "id": "FlVdkiRb_HGR",
    "outputId": "f8525b85-a44f-49f6-b051-22649a5f0eb5"
   },
   "outputs": [],
   "source": [
    "# Compile results\n",
    "baseCols = data.columns.tolist()\n",
    "targetCols = list(ResultData.keys())\n",
    "results = data.copy()\n",
    "for adj in ResultData:\n",
    "    results[adj] = ResultData[adj]\n",
    "\n",
    "results = pd.melt(results, id_vars=baseCols, value_vars=targetCols,\n",
    "                  var_name='target', value_name='prob')"
   ]
  },
  {
   "cell_type": "code",
   "execution_count": null,
   "metadata": {},
   "outputs": [],
   "source": [
    "results.to_csv('BabyBERTaResults.tsv', sep='\\t', index=False)"
   ]
  },
  {
   "cell_type": "code",
   "execution_count": null,
   "metadata": {
    "colab": {
     "base_uri": "https://localhost:8080/"
    },
    "id": "JLVEaEyBBnD-",
    "outputId": "4eff72d2-3c61-4811-9549-4cc087a44821"
   },
   "outputs": [],
   "source": [
    "# Retrieve pre-compiled results\n",
    "!wget -O BabyBERTa.tsv https://www.dropbox.com/s/315a2et75nimyo2/BabyBERTa.tsv?dl=0\n",
    "!wget -O RoBERTa.tsv https://www.dropbox.com/s/zozf6mwv3a5jdyl/RoBERTa.tsv?dl=0"
   ]
  },
  {
   "cell_type": "code",
   "execution_count": null,
   "metadata": {
    "colab": {
     "base_uri": "https://localhost:8080/"
    },
    "id": "c7kBbovaB6Zh",
    "outputId": "d6c5351d-8000-41f1-c9a4-9e9b0e5821d3"
   },
   "outputs": [],
   "source": [
    "# Load pre-compiled results\n",
    "BabyResults = pd.read_csv('BabyBERTa.tsv', sep='\\t')\n",
    "RoResults = pd.read_csv('RoBERTa.tsv', sep='\\t')\n",
    "\n",
    "RoResults.insert(0, 'model', 'roberta')\n",
    "BabyResults.insert(0, 'model', 'babyberta')\n",
    "\n",
    "header = subset.columns.tolist()\n",
    "header = list(filter(lambda x: 'Unnamed' not in x, header))\n",
    "header = list(filter(lambda x: 'index' not in x, header))\n",
    "Baby = subset[header]\n",
    "Ro = subset[header]\n",
    "\n",
    "for head in BabyResults.columns.tolist():\n",
    "    Baby[head] = BabyResults[head].tolist()\n",
    "BabyResults = Baby\n",
    "\n",
    "for head in RoResults.columns.tolist():\n",
    "    Ro[head] = RoResults[head].tolist()\n",
    "RoResults = Ro"
   ]
  },
  {
   "cell_type": "code",
   "execution_count": null,
   "metadata": {
    "id": "FTkzlMJ_RPoS"
   },
   "outputs": [],
   "source": [
    "combined = pd.concat([BabyResults, RoResults])"
   ]
  },
  {
   "cell_type": "code",
   "execution_count": null,
   "metadata": {
    "id": "mVk853ADEbeH"
   },
   "outputs": [],
   "source": [
    "# Establish by-item winner\n",
    "\n",
    "winner = []\n",
    "for _, row in combined.iterrows():\n",
    "    w = [10000000000, '']\n",
    "    for adjClass in class2adj:\n",
    "        if row[adjClass] < w[0]:\n",
    "            w[0] = row[adjClass]\n",
    "            w[1] = adjClass\n",
    "    winner.append(w[1])\n",
    "combined.insert(39, 'prefer', winner)\n"
   ]
  },
  {
   "cell_type": "code",
   "execution_count": null,
   "metadata": {
    "id": "C1hnuPcoGBxW"
   },
   "outputs": [],
   "source": [
    "data = combined[combined['model'] =='babyberta']\n",
    "value_counts = data[['model', 'right', 'prefer']].groupby(['model', 'right', 'prefer']).value_counts()"
   ]
  },
  {
   "cell_type": "code",
   "execution_count": null,
   "metadata": {
    "colab": {
     "base_uri": "https://localhost:8080/"
    },
    "id": "IRsrh4zwTGsi",
    "outputId": "4dab98bd-a4c1-4176-af83-bb0cd5ce7be4"
   },
   "outputs": [],
   "source": [
    "value_counts"
   ]
  },
  {
   "cell_type": "code",
   "execution_count": null,
   "metadata": {
    "colab": {
     "base_uri": "https://localhost:8080/",
     "height": 36
    },
    "id": "k5IJ52A4pIn1",
    "outputId": "4f753df6-93a7-48c3-d0b6-5db134ffcbe7"
   },
   "outputs": [],
   "source": [
    "f\"{100*(data['adjective_class'] == data['prefer']).astype(int).sum()/(len(data['prefer'].tolist()))}% have same prediction as original adjective class\""
   ]
  },
  {
   "cell_type": "code",
   "execution_count": null,
   "metadata": {
    "colab": {
     "base_uri": "https://localhost:8080/",
     "height": 1000
    },
    "id": "F4H3-nYJquzU",
    "outputId": "9d434fc0-46a7-43a5-a4e5-5c712fa14114"
   },
   "outputs": [],
   "source": [
    "data.head(10)"
   ]
  }
 ],
 "metadata": {
  "colab": {
   "provenance": []
  },
  "kernelspec": {
   "display_name": "Python 3 (ipykernel)",
   "language": "python",
   "name": "python3"
  },
  "language_info": {
   "codemirror_mode": {
    "name": "ipython",
    "version": 3
   },
   "file_extension": ".py",
   "mimetype": "text/x-python",
   "name": "python",
   "nbconvert_exporter": "python",
   "pygments_lexer": "ipython3",
   "version": "3.9.13"
  }
 },
 "nbformat": 4,
 "nbformat_minor": 4
}
